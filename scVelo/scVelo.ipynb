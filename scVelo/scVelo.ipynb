{
 "cells": [
  {
   "cell_type": "code",
   "execution_count": 1,
   "id": "cc8a5d8d-bd3e-4ae8-9789-29100bd1971b",
   "metadata": {},
   "outputs": [],
   "source": [
    "import sys\n",
    "import os\n",
    "import scvelo"
   ]
  },
  {
   "cell_type": "code",
   "execution_count": 2,
   "id": "fadacccf-a716-4035-8eff-41642aaba755",
   "metadata": {},
   "outputs": [],
   "source": [
    "# Set environment PATH\n",
    "os.environ[\"PATH\"] = '/home/jiang817/.conda/envs/BaloniLab_py10/bin:/home/jiang817/bin:/home/jiang817/.local/bin:/usr/local/bin:/usr/bin:/usr/local/sbin:/usr/sbin:/opt/hpss/bin:/opt/hsi/bin:/opt/puppetlabs/bin:/usr/site/rcac/sbin:/usr/site/rcac/bin:/usr/site/rcac/scripts:/opt/hpss/bin:/opt/hsi/bin'"
   ]
  },
  {
   "cell_type": "markdown",
   "id": "cd308c2f-1f56-4671-9e79-a971ad19002d",
   "metadata": {},
   "source": [
    "## Convert bam to fastq"
   ]
  },
  {
   "cell_type": "code",
   "execution_count": null,
   "id": "36a05c52-20e3-4c46-95dc-a73bbffa6542",
   "metadata": {},
   "outputs": [],
   "source": [
    "# using bamtofastq from Genome10x(https://github.com/10XGenomics/bamtofastq)\n",
    "# /depot/pbaloni/data/Lab_members/Boyu_Jiang/Software/bamtofastq/bamtofastq_linux --reads-per-fastq=5000000000 --nthreads=128 /depot/pbaloni/data/Bowman_scRNA/CD10_D150_MeHg/CD10_E0/possorted_genome_bam.bam /depot/pbaloni/data/Lab_members/Boyu_Jiang/RNA_Volecity/fastq_test/CD10_E0\n",
    "\n",
    "!bash Conert_bam2fastq.sh\n"
   ]
  },
  {
   "cell_type": "markdown",
   "id": "16a0965e-5325-4a57-8804-58f4b12d56c4",
   "metadata": {},
   "source": [
    "## Build the index"
   ]
  },
  {
   "cell_type": "code",
   "execution_count": null,
   "id": "87fedea2-2a09-4d1d-9017-0a6a93c3d6ea",
   "metadata": {},
   "outputs": [],
   "source": [
    "# Download reference files\n",
    "%time\n",
    "!wget https://ftp.ensembl.org/pub/release-98/fasta/homo_sapiens/dna/Homo_sapiens.GRCh38.dna.primary_assembly.fa.gz\n",
    "!wget https://ftp.ensembl.org/pub/release-98/gtf/homo_sapiens/Homo_sapiens.GRCh38.98.gtf.gz"
   ]
  },
  {
   "cell_type": "code",
   "execution_count": 3,
   "id": "1900e7ee-5b43-4599-bbe3-6cf1f4558bc4",
   "metadata": {},
   "outputs": [
    {
     "name": "stdout",
     "output_type": "stream",
     "text": [
      "/depot/pbaloni/data/Lab_members/Boyu_Jiang/RNA_Volecity/velocity_index\n"
     ]
    }
   ],
   "source": [
    "cd /depot/pbaloni/data/Lab_members/Boyu_Jiang/RNA_Volecity/velocity_index/"
   ]
  },
  {
   "cell_type": "code",
   "execution_count": 16,
   "id": "f6b2ac12-14b3-4817-8dd4-fecef3bbcd78",
   "metadata": {},
   "outputs": [
    {
     "name": "stdout",
     "output_type": "stream",
     "text": [
      "[2024-04-16 20:08:50,021]    INFO [ref_lamanno] Skipping cDNA and intron FASTA generation because files already exist. Use --overwrite flag to overwrite\n",
      "[2024-04-16 20:08:50,024]    INFO [ref_lamanno] Skipping kallisto index because index.idx already exists. Use the --overwrite flag to overwrite.\n"
     ]
    }
   ],
   "source": [
    "!kb ref -i index.idx -g t2g.txt -f1 cdna.fa -f2 intron.fa -c1 cdna_t2c.txt -c2 intron_t2c.txt --workflow lamanno -t 64 /depot/pbaloni/data/Lab_members/Boyu_Jiang/RNA_Volecity/velocity_index/Homo_sapiens.GRCh38.dna.primary_assembly.fa.gz /depot/pbaloni/data/Lab_members/Boyu_Jiang/RNA_Volecity/velocity_index/Homo_sapiens.GRCh38.98.gtf.gz"
   ]
  },
  {
   "cell_type": "markdown",
   "id": "5d71300c-4305-4dfe-8be7-8a4bc2793696",
   "metadata": {},
   "source": [
    "## Generate RNA velocity count matrices\n"
   ]
  },
  {
   "cell_type": "code",
   "execution_count": 4,
   "id": "0ddfed3f-5d43-4cfd-90df-7ce34ec77566",
   "metadata": {},
   "outputs": [
    {
     "name": "stdout",
     "output_type": "stream",
     "text": [
      "/depot/pbaloni/data/Lab_members/Boyu_Jiang/RNA_Volecity/velocity_index\n"
     ]
    }
   ],
   "source": [
    "cd /depot/pbaloni/data/Lab_members/Boyu_Jiang/RNA_Volecity/velocity_index/"
   ]
  },
  {
   "cell_type": "code",
   "execution_count": 19,
   "id": "9b01ab3c-eb81-40bc-8801-ea5b05762c6b",
   "metadata": {},
   "outputs": [
    {
     "data": {
      "text/plain": [
       "'/depot/pbaloni/data/Lab_members/Boyu_Jiang/RNA_Volecity/velocity_index'"
      ]
     },
     "execution_count": 19,
     "metadata": {},
     "output_type": "execute_result"
    }
   ],
   "source": [
    "pwd"
   ]
  },
  {
   "cell_type": "code",
   "execution_count": 26,
   "id": "c8ba3fe9-a31b-4ffe-b02c-c2d846d984db",
   "metadata": {
    "scrolled": true
   },
   "outputs": [
    {
     "name": "stdout",
     "output_type": "stream",
     "text": [
      "[2024-04-16 22:45:07,641]    INFO [count_lamanno] Using index index.idx to generate BUS file to /depot/pbaloni/data/Lab_members/Boyu_Jiang/RNA_Volecity/scvelo_processed_inputs/CD10_E01 from\n",
      "[2024-04-16 22:45:07,642]    INFO [count_lamanno]         /depot/pbaloni/data/Lab_members/Boyu_Jiang/RNA_Volecity/fastq_genome10x/CD10_E0/CD10_E0_0_1_HT2TVDSX3/bamtofastq_S1_L001_R1_001.fastq.gz\n",
      "[2024-04-16 22:45:07,642]    INFO [count_lamanno]         /depot/pbaloni/data/Lab_members/Boyu_Jiang/RNA_Volecity/fastq_genome10x/CD10_E0/CD10_E0_0_1_HT2TVDSX3/bamtofastq_S1_L001_R2_001.fastq.gz\n",
      "[2024-04-16 22:57:55,619]    INFO [count_lamanno] Sorting BUS file /depot/pbaloni/data/Lab_members/Boyu_Jiang/RNA_Volecity/scvelo_processed_inputs/CD10_E01/output.bus to /depot/pbaloni/data/Lab_members/Boyu_Jiang/RNA_Volecity/scvelo_processed_inputs/CD10_E01/tmp/output.s.bus\n",
      "[2024-04-16 22:59:16,608]    INFO [count_lamanno] On-list not provided\n",
      "[2024-04-16 22:59:16,608]    INFO [count_lamanno] Copying pre-packaged 10XV3 on-list to /depot/pbaloni/data/Lab_members/Boyu_Jiang/RNA_Volecity/scvelo_processed_inputs/CD10_E01\n",
      "[2024-04-16 22:59:17,090]    INFO [count_lamanno] Inspecting BUS file /depot/pbaloni/data/Lab_members/Boyu_Jiang/RNA_Volecity/scvelo_processed_inputs/CD10_E01/tmp/output.s.bus\n",
      "[2024-04-16 22:59:45,524]    INFO [count_lamanno] Correcting BUS records in /depot/pbaloni/data/Lab_members/Boyu_Jiang/RNA_Volecity/scvelo_processed_inputs/CD10_E01/tmp/output.s.bus to /depot/pbaloni/data/Lab_members/Boyu_Jiang/RNA_Volecity/scvelo_processed_inputs/CD10_E01/tmp/output.s.c.bus with on-list /depot/pbaloni/data/Lab_members/Boyu_Jiang/RNA_Volecity/scvelo_processed_inputs/CD10_E01/10x_version3_whitelist.txt\n",
      "[2024-04-16 23:00:19,363]    INFO [count_lamanno] Sorting BUS file /depot/pbaloni/data/Lab_members/Boyu_Jiang/RNA_Volecity/scvelo_processed_inputs/CD10_E01/tmp/output.s.c.bus to /depot/pbaloni/data/Lab_members/Boyu_Jiang/RNA_Volecity/scvelo_processed_inputs/CD10_E01/output.unfiltered.bus\n",
      "[2024-04-16 23:01:16,331]    INFO [count_lamanno] Capturing records from BUS file /depot/pbaloni/data/Lab_members/Boyu_Jiang/RNA_Volecity/scvelo_processed_inputs/CD10_E01/output.unfiltered.bus to /depot/pbaloni/data/Lab_members/Boyu_Jiang/RNA_Volecity/scvelo_processed_inputs/CD10_E01/tmp/spliced.bus with capture list intron_t2c.txt\n",
      "[2024-04-16 23:02:06,088]    INFO [count_lamanno] Sorting BUS file /depot/pbaloni/data/Lab_members/Boyu_Jiang/RNA_Volecity/scvelo_processed_inputs/CD10_E01/tmp/spliced.bus to /depot/pbaloni/data/Lab_members/Boyu_Jiang/RNA_Volecity/scvelo_processed_inputs/CD10_E01/spliced.unfiltered.bus\n",
      "[2024-04-16 23:02:30,917]    INFO [count_lamanno] Inspecting BUS file /depot/pbaloni/data/Lab_members/Boyu_Jiang/RNA_Volecity/scvelo_processed_inputs/CD10_E01/spliced.unfiltered.bus\n",
      "[2024-04-16 23:02:48,337]    INFO [count_lamanno] Generating count matrix /depot/pbaloni/data/Lab_members/Boyu_Jiang/RNA_Volecity/scvelo_processed_inputs/CD10_E01/counts_unfiltered/spliced from BUS file /depot/pbaloni/data/Lab_members/Boyu_Jiang/RNA_Volecity/scvelo_processed_inputs/CD10_E01/spliced.unfiltered.bus\n",
      "[2024-04-16 23:03:36,006]    INFO [count_lamanno] Capturing records from BUS file /depot/pbaloni/data/Lab_members/Boyu_Jiang/RNA_Volecity/scvelo_processed_inputs/CD10_E01/output.unfiltered.bus to /depot/pbaloni/data/Lab_members/Boyu_Jiang/RNA_Volecity/scvelo_processed_inputs/CD10_E01/tmp/unspliced.bus with capture list cdna_t2c.txt\n",
      "[2024-04-16 23:04:19,055]    INFO [count_lamanno] Sorting BUS file /depot/pbaloni/data/Lab_members/Boyu_Jiang/RNA_Volecity/scvelo_processed_inputs/CD10_E01/tmp/unspliced.bus to /depot/pbaloni/data/Lab_members/Boyu_Jiang/RNA_Volecity/scvelo_processed_inputs/CD10_E01/unspliced.unfiltered.bus\n",
      "[2024-04-16 23:04:26,465]    INFO [count_lamanno] Inspecting BUS file /depot/pbaloni/data/Lab_members/Boyu_Jiang/RNA_Volecity/scvelo_processed_inputs/CD10_E01/unspliced.unfiltered.bus\n",
      "[2024-04-16 23:04:40,281]    INFO [count_lamanno] Generating count matrix /depot/pbaloni/data/Lab_members/Boyu_Jiang/RNA_Volecity/scvelo_processed_inputs/CD10_E01/counts_unfiltered/unspliced from BUS file /depot/pbaloni/data/Lab_members/Boyu_Jiang/RNA_Volecity/scvelo_processed_inputs/CD10_E01/unspliced.unfiltered.bus\n",
      "[2024-04-16 23:05:11,137]    INFO [count_lamanno] Reading matrix /depot/pbaloni/data/Lab_members/Boyu_Jiang/RNA_Volecity/scvelo_processed_inputs/CD10_E01/counts_unfiltered/spliced.mtx\n",
      "[2024-04-16 23:05:13,031]    INFO [count_lamanno] Reading matrix /depot/pbaloni/data/Lab_members/Boyu_Jiang/RNA_Volecity/scvelo_processed_inputs/CD10_E01/counts_unfiltered/unspliced.mtx\n",
      "[2024-04-16 23:05:14,179]    INFO [count_lamanno] Combining matrices\n",
      "[2024-04-16 23:05:16,066]    INFO [count_lamanno] Writing matrices to h5ad /depot/pbaloni/data/Lab_members/Boyu_Jiang/RNA_Volecity/scvelo_processed_inputs/CD10_E01/counts_unfiltered/adata.h5ad\n",
      "[2024-04-16 23:05:18,311]    INFO [count_lamanno] Filtering with bustools\n",
      "[2024-04-16 23:05:18,311]    INFO [count_lamanno] Generating on-list /depot/pbaloni/data/Lab_members/Boyu_Jiang/RNA_Volecity/scvelo_processed_inputs/CD10_E01/filter_barcodes.txt from BUS file /depot/pbaloni/data/Lab_members/Boyu_Jiang/RNA_Volecity/scvelo_processed_inputs/CD10_E01/output.unfiltered.bus\n",
      "[2024-04-16 23:05:20,115]    INFO [count_lamanno] Correcting BUS records in /depot/pbaloni/data/Lab_members/Boyu_Jiang/RNA_Volecity/scvelo_processed_inputs/CD10_E01/output.unfiltered.bus to /depot/pbaloni/data/Lab_members/Boyu_Jiang/RNA_Volecity/scvelo_processed_inputs/CD10_E01/tmp/output.unfiltered.c.bus with on-list /depot/pbaloni/data/Lab_members/Boyu_Jiang/RNA_Volecity/scvelo_processed_inputs/CD10_E01/filter_barcodes.txt\n",
      "[2024-04-16 23:05:38,436]    INFO [count_lamanno] Sorting BUS file /depot/pbaloni/data/Lab_members/Boyu_Jiang/RNA_Volecity/scvelo_processed_inputs/CD10_E01/tmp/output.unfiltered.c.bus to /depot/pbaloni/data/Lab_members/Boyu_Jiang/RNA_Volecity/scvelo_processed_inputs/CD10_E01/output.filtered.bus\n",
      "[2024-04-16 23:06:25,691]    INFO [count_lamanno] Capturing records from BUS file /depot/pbaloni/data/Lab_members/Boyu_Jiang/RNA_Volecity/scvelo_processed_inputs/CD10_E01/output.filtered.bus to /depot/pbaloni/data/Lab_members/Boyu_Jiang/RNA_Volecity/scvelo_processed_inputs/CD10_E01/tmp/spliced.bus with capture list intron_t2c.txt\n",
      "[2024-04-16 23:07:14,650]    INFO [count_lamanno] Sorting BUS file /depot/pbaloni/data/Lab_members/Boyu_Jiang/RNA_Volecity/scvelo_processed_inputs/CD10_E01/tmp/spliced.bus to /depot/pbaloni/data/Lab_members/Boyu_Jiang/RNA_Volecity/scvelo_processed_inputs/CD10_E01/spliced.filtered.bus\n",
      "[2024-04-16 23:07:38,980]    INFO [count_lamanno] Generating count matrix /depot/pbaloni/data/Lab_members/Boyu_Jiang/RNA_Volecity/scvelo_processed_inputs/CD10_E01/counts_filtered/spliced from BUS file /depot/pbaloni/data/Lab_members/Boyu_Jiang/RNA_Volecity/scvelo_processed_inputs/CD10_E01/spliced.filtered.bus\n",
      "[2024-04-16 23:08:24,714]    INFO [count_lamanno] Capturing records from BUS file /depot/pbaloni/data/Lab_members/Boyu_Jiang/RNA_Volecity/scvelo_processed_inputs/CD10_E01/output.filtered.bus to /depot/pbaloni/data/Lab_members/Boyu_Jiang/RNA_Volecity/scvelo_processed_inputs/CD10_E01/tmp/unspliced.bus with capture list cdna_t2c.txt\n",
      "[2024-04-16 23:09:06,963]    INFO [count_lamanno] Sorting BUS file /depot/pbaloni/data/Lab_members/Boyu_Jiang/RNA_Volecity/scvelo_processed_inputs/CD10_E01/tmp/unspliced.bus to /depot/pbaloni/data/Lab_members/Boyu_Jiang/RNA_Volecity/scvelo_processed_inputs/CD10_E01/unspliced.filtered.bus\n",
      "[2024-04-16 23:09:13,872]    INFO [count_lamanno] Generating count matrix /depot/pbaloni/data/Lab_members/Boyu_Jiang/RNA_Volecity/scvelo_processed_inputs/CD10_E01/counts_filtered/unspliced from BUS file /depot/pbaloni/data/Lab_members/Boyu_Jiang/RNA_Volecity/scvelo_processed_inputs/CD10_E01/unspliced.filtered.bus\n",
      "[2024-04-16 23:09:43,903]    INFO [count_lamanno] Reading matrix /depot/pbaloni/data/Lab_members/Boyu_Jiang/RNA_Volecity/scvelo_processed_inputs/CD10_E01/counts_filtered/spliced.mtx\n",
      "[2024-04-16 23:09:45,081]    INFO [count_lamanno] Reading matrix /depot/pbaloni/data/Lab_members/Boyu_Jiang/RNA_Volecity/scvelo_processed_inputs/CD10_E01/counts_filtered/unspliced.mtx\n",
      "[2024-04-16 23:09:45,809]    INFO [count_lamanno] Combining matrices\n",
      "[2024-04-16 23:09:47,161]    INFO [count_lamanno] Writing matrices to h5ad /depot/pbaloni/data/Lab_members/Boyu_Jiang/RNA_Volecity/scvelo_processed_inputs/CD10_E01/counts_filtered/adata.h5ad\n"
     ]
    }
   ],
   "source": [
    "!kb count --h5ad -i index.idx -g t2g.txt -x 10xv3 -o /depot/pbaloni/data/Lab_members/Boyu_Jiang/RNA_Volecity/scvelo_processed_inputs/CD10_E01 -t 128 -c1 cdna_t2c.txt -c2 intron_t2c.txt --workflow lamanno --filter bustools -t 128 /depot/pbaloni/data/Lab_members/Boyu_Jiang/RNA_Volecity/fastq_genome10x/CD10_E0/CD10_E0_0_1_HT2TVDSX3/bamtofastq_S1_L001_R1_001.fastq.gz /depot/pbaloni/data/Lab_members/Boyu_Jiang/RNA_Volecity/fastq_genome10x/CD10_E0/CD10_E0_0_1_HT2TVDSX3/bamtofastq_S1_L001_R2_001.fastq.gz"
   ]
  }
 ],
 "metadata": {
  "kernelspec": {
   "display_name": "BaloniLab_py10",
   "language": "python",
   "name": "balonilab_py10"
  },
  "language_info": {
   "codemirror_mode": {
    "name": "ipython",
    "version": 3
   },
   "file_extension": ".py",
   "mimetype": "text/x-python",
   "name": "python",
   "nbconvert_exporter": "python",
   "pygments_lexer": "ipython3",
   "version": "3.10.13"
  }
 },
 "nbformat": 4,
 "nbformat_minor": 5
}
