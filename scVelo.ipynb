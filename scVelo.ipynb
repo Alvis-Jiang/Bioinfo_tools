{
 "cells": [
  {
   "cell_type": "code",
   "execution_count": 48,
   "id": "cc8a5d8d-bd3e-4ae8-9789-29100bd1971b",
   "metadata": {},
   "outputs": [
    {
     "ename": "SyntaxError",
     "evalue": "invalid syntax (2518465700.py, line 3)",
     "output_type": "error",
     "traceback": [
      "\u001b[0;36m  Cell \u001b[0;32mIn[48], line 3\u001b[0;36m\u001b[0m\n\u001b[0;31m    import kb-python\u001b[0m\n\u001b[0m             ^\u001b[0m\n\u001b[0;31mSyntaxError\u001b[0m\u001b[0;31m:\u001b[0m invalid syntax\n"
     ]
    }
   ],
   "source": [
    "import sys\n",
    "import os\n",
    "import scvelo"
   ]
  },
  {
   "cell_type": "code",
   "execution_count": null,
   "id": "fadacccf-a716-4035-8eff-41642aaba755",
   "metadata": {},
   "outputs": [],
   "source": [
    "# Set environment PATH\n",
    "os.environ[\"PATH\"] = '/home/jiang817/.conda/envs/BaloniLab_py10/bin:/home/jiang817/bin:/home/jiang817/.local/bin:/usr/local/bin:/usr/bin:/usr/local/sbin:/usr/sbin:/opt/hpss/bin:/opt/hsi/bin:/opt/puppetlabs/bin:/usr/site/rcac/sbin:/usr/site/rcac/bin:/usr/site/rcac/scripts:/opt/hpss/bin:/opt/hsi/bin'"
   ]
  },
  {
   "cell_type": "markdown",
   "id": "16a0965e-5325-4a57-8804-58f4b12d56c4",
   "metadata": {},
   "source": [
    "## Build the index"
   ]
  },
  {
   "cell_type": "code",
   "execution_count": 25,
   "id": "87fedea2-2a09-4d1d-9017-0a6a93c3d6ea",
   "metadata": {},
   "outputs": [
    {
     "name": "stdout",
     "output_type": "stream",
     "text": [
      "CPU times: user 2 µs, sys: 1e+03 ns, total: 3 µs\n",
      "Wall time: 4.29 µs\n",
      "--2024-04-15 20:22:26--  https://ftp.ensembl.org/pub/release-98/fasta/homo_sapiens/dna/Homo_sapiens.GRCh38.dna.primary_assembly.fa.gz\n",
      "Resolving ftp.ensembl.org (ftp.ensembl.org)... 193.62.193.169\n",
      "Connecting to ftp.ensembl.org (ftp.ensembl.org)|193.62.193.169|:443... connected.\n",
      "HTTP request sent, awaiting response... 200 OK\n",
      "Length: 881211416 (840M) [application/x-gzip]\n",
      "Saving to: ‘Homo_sapiens.GRCh38.dna.primary_assembly.fa.gz’\n",
      "\n",
      "Homo_sapiens.GRCh38 100%[===================>] 840.39M   118MB/s    in 7.9s    \n",
      "\n",
      "2024-04-15 20:22:35 (106 MB/s) - ‘Homo_sapiens.GRCh38.dna.primary_assembly.fa.gz’ saved [881211416/881211416]\n",
      "\n",
      "--2024-04-15 20:22:35--  https://ftp.ensembl.org/pub/release-98/gtf/homo_sapiens/Homo_sapiens.GRCh38.98.gtf.gz\n",
      "Resolving ftp.ensembl.org (ftp.ensembl.org)... 193.62.193.169\n",
      "Connecting to ftp.ensembl.org (ftp.ensembl.org)|193.62.193.169|:443... connected.\n",
      "HTTP request sent, awaiting response... 200 OK\n",
      "Length: 46712404 (45M) [application/x-gzip]\n",
      "Saving to: ‘Homo_sapiens.GRCh38.98.gtf.gz’\n",
      "\n",
      "Homo_sapiens.GRCh38 100%[===================>]  44.55M  38.7MB/s    in 1.2s    \n",
      "\n",
      "2024-04-15 20:22:37 (38.7 MB/s) - ‘Homo_sapiens.GRCh38.98.gtf.gz’ saved [46712404/46712404]\n",
      "\n"
     ]
    }
   ],
   "source": [
    "# Download reference files\n",
    "%time\n",
    "!wget https://ftp.ensembl.org/pub/release-98/fasta/homo_sapiens/dna/Homo_sapiens.GRCh38.dna.primary_assembly.fa.gz\n",
    "!wget https://ftp.ensembl.org/pub/release-98/gtf/homo_sapiens/Homo_sapiens.GRCh38.98.gtf.gz"
   ]
  },
  {
   "cell_type": "code",
   "execution_count": 29,
   "id": "1900e7ee-5b43-4599-bbe3-6cf1f4558bc4",
   "metadata": {},
   "outputs": [
    {
     "name": "stdout",
     "output_type": "stream",
     "text": [
      "/depot/pbaloni/data/Lab_members/Boyu_Jiang/RNA_Volecity/velocity_index\n"
     ]
    }
   ],
   "source": [
    "cd /depot/pbaloni/data/Lab_members/Boyu_Jiang/RNA_Volecity/velocity_index/"
   ]
  },
  {
   "cell_type": "code",
   "execution_count": 32,
   "id": "f6b2ac12-14b3-4817-8dd4-fecef3bbcd78",
   "metadata": {},
   "outputs": [
    {
     "name": "stdout",
     "output_type": "stream",
     "text": [
      "Homo_sapiens.GRCh38.98.gtf.gz                   \u001b[0m\u001b[01;34mtest\u001b[0m/\n",
      "Homo_sapiens.GRCh38.dna.primary_assembly.fa.gz\n"
     ]
    }
   ],
   "source": [
    "!kb ref -i index.idx -g t2g.txt -f1 cdna.fa -f2 intron.fa -c1 cdna_t2c.txt -c2 intron_t2c.txt --workflow lamanno -t 64 /depot/pbaloni/data/Lab_members/Boyu_Jiang/RNA_Volecity/velocity_index/Homo_sapiens.GRCh38.dna.primary_assembly.fa.gz /depot/pbaloni/data/Lab_members/Boyu_Jiang/RNA_Volecity/velocity_index/Homo_sapiens.GRCh38.98.gtf.gz"
   ]
  },
  {
   "cell_type": "markdown",
   "id": "5d71300c-4305-4dfe-8be7-8a4bc2793696",
   "metadata": {},
   "source": [
    "## Generate RNA velocity count matrices\n"
   ]
  },
  {
   "cell_type": "code",
   "execution_count": null,
   "id": "0ddfed3f-5d43-4cfd-90df-7ce34ec77566",
   "metadata": {},
   "outputs": [],
   "source": [
    "cd /depot/pbaloni/data/Lab_members/Boyu_Jiang/RNA_Volecity/velocity_index/"
   ]
  },
  {
   "cell_type": "code",
   "execution_count": 9,
   "id": "5e9bd4fc-aa9f-41c9-8104-a6534567a543",
   "metadata": {},
   "outputs": [
    {
     "name": "stdout",
     "output_type": "stream",
     "text": [
      "usage: kb count [-h] [--tmp TMP] [--keep-tmp] [--verbose] -i INDEX -g T2G -x\n",
      "                TECHNOLOGY [-o OUT] [--num] [-w ONLIST] [-r REPLACEMENT]\n",
      "                [-t THREADS] [-m MEMORY]\n",
      "                [--strand {unstranded,forward,reverse}] [--inleaved] [--aa]\n",
      "                [--workflow {standard,nac,kite,kite:10xFB}] [--mm | --tcc]\n",
      "                [--filter [{bustools}]] [--filter-threshold THRESH] [-c1 T2C]\n",
      "                [-c2 T2C] [--overwrite] [--dry-run] [--batch-barcodes]\n",
      "                [--loom | --h5ad]\n",
      "                [--loom-names col_attrs/{name},row_attrs/{name}] [--sum TYPE]\n",
      "                [--cellranger] [--gene-names] [-N NUMREADS] [--report]\n",
      "                [--kallisto KALLISTO] [--bustools BUSTOOLS]\n",
      "                [--parity {single,paired}] [--fragment-l L] [--fragment-s S]\n",
      "                [--bootstraps B] [--matrix-to-files] [--matrix-to-directories]\n",
      "                fastqs [fastqs ...]\n",
      "\n",
      "Generate count matrices from a set of single-cell FASTQ files. Run `kb --list`\n",
      "to view single-cell technology information.\n",
      "\n",
      "positional arguments:\n",
      "  fastqs                FASTQ files. For technology `SMARTSEQ`, all input\n",
      "                        FASTQs are alphabetically sorted by path and paired in\n",
      "                        order, and cell IDs are assigned as incrementing\n",
      "                        integers starting from zero. A single batch TSV with\n",
      "                        cell ID, read 1, and read 2 as columns can be provided\n",
      "                        to override this behavior.\n",
      "\n",
      "options:\n",
      "  -h, --help            Show this help message and exit\n",
      "  --tmp TMP             Override default temporary directory\n",
      "  --keep-tmp            Do not delete the tmp directory\n",
      "  --verbose             Print debugging information\n",
      "  -o OUT                Path to output directory (default: current directory)\n",
      "  --num                 Store read numbers in BUS file\n",
      "  -w ONLIST             Path to file of on-listed barcodes to correct to. If\n",
      "                        not provided and bustools supports the technology, a\n",
      "                        pre-packaged on-list is used. Otherwise, the bustools\n",
      "                        allowlist command is used. Specify NONE to bypass\n",
      "                        barcode error correction. (`kb --list` to view on-\n",
      "                        lists)\n",
      "  -r REPLACEMENT        Path to file of a replacement list to correct to. In\n",
      "                        the file, the first column is the original barcode and\n",
      "                        second is the replacement sequence\n",
      "  -t THREADS            Number of threads to use (default: 8)\n",
      "  -m MEMORY             Maximum memory used (default: 2G for standard, 4G for\n",
      "                        others)\n",
      "  --strand {unstranded,forward,reverse}\n",
      "                        Strandedness (default: see `kb --list`)\n",
      "  --inleaved            Specifies that input is an interleaved FASTQ file\n",
      "  --aa                  Map to index generated from FASTA-file containing\n",
      "                        amino acid sequences\n",
      "  --workflow {standard,nac,kite,kite:10xFB}\n",
      "                        Type of workflow. Use `nac` to specify a nac index for\n",
      "                        producing mature/nascent/ambiguous matrices. Use\n",
      "                        `kite` for feature barcoding. Use `kite:10xFB` for 10x\n",
      "                        Genomics Feature Barcoding technology. (default:\n",
      "                        standard)\n",
      "  --mm                  Include reads that pseudoalign to multiple genes.\n",
      "                        Automatically enabled when generating a TCC matrix.\n",
      "  --tcc                 Generate a TCC matrix instead of a gene count matrix.\n",
      "  --filter [{bustools}]\n",
      "                        Produce a filtered gene count matrix (default:\n",
      "                        bustools)\n",
      "  --filter-threshold THRESH\n",
      "                        Barcode filter threshold (default: auto)\n",
      "  --overwrite           Overwrite existing output.bus file\n",
      "  --dry-run             Dry run\n",
      "  --batch-barcodes      When a batch file is supplied, store sample\n",
      "                        identifiers in barcodes\n",
      "  --loom                Generate loom file from count matrix\n",
      "  --h5ad                Generate h5ad file from count matrix\n",
      "  --loom-names col_attrs/{name},row_attrs/{name}\n",
      "                        Names for col_attrs and row_attrs in loom file\n",
      "                        (default: barcode,target_name). Use --loom-\n",
      "                        names=velocyto for velocyto-compatible loom files\n",
      "  --sum TYPE            Produced summed count matrices (Options: none, cell,\n",
      "                        nucleus, total). Use `cell` to add ambiguous and\n",
      "                        processed transcript matrices. Use `nucleus` to add\n",
      "                        ambiguous and unprocessed transcript matrices. Use\n",
      "                        `total` to add all three matrices together. (Default:\n",
      "                        none)\n",
      "  --cellranger          Convert count matrices to cellranger-compatible format\n",
      "  --gene-names          Group counts by gene names instead of gene IDs when\n",
      "                        generating the loom or h5ad file\n",
      "  -N NUMREADS           Maximum number of reads to process from supplied input\n",
      "  --report              Generate a HTML report containing run statistics and\n",
      "                        basic plots. Using this option may cause kb to use\n",
      "                        more memory than specified with the `-m` option. It\n",
      "                        may also cause it to crash due to memory.\n",
      "  --kallisto KALLISTO   Path to kallisto binary to use (default: /home/jiang81\n",
      "                        7/.conda/envs/BaloniLab_py10/lib/python3.10/site-\n",
      "                        packages/kb_python/bins/linux/kallisto/kallisto)\n",
      "  --bustools BUSTOOLS   Path to bustools binary to use (default: /home/jiang81\n",
      "                        7/.conda/envs/BaloniLab_py10/lib/python3.10/site-\n",
      "                        packages/kb_python/bins/linux/bustools/bustools)\n",
      "\n",
      "required arguments:\n",
      "  -i INDEX              Path to kallisto index\n",
      "  -g T2G                Path to transcript-to-gene mapping\n",
      "  -x TECHNOLOGY         Single-cell technology used (`kb --list` to view)\n",
      "\n",
      "required arguments for `nac` workflow:\n",
      "  -c1 T2C               Path to mature transcripts-to-capture\n",
      "  -c2 T2C               Path to nascent transcripts-to-captured\n",
      "\n",
      "optional arguments for `BULK` and `SMARTSEQ2` technologies:\n",
      "  --parity {single,paired}\n",
      "                        Parity of the input files. Choices are `single` for\n",
      "                        single-end and `paired` for paired-end reads.\n",
      "  --fragment-l L        Mean length of fragments. Only for single-end.\n",
      "  --fragment-s S        Standard deviation of fragment lengths. Only for\n",
      "                        single-end.\n",
      "  --bootstraps B        Number of bootstraps to perform\n",
      "  --matrix-to-files     Reorganize matrix output into abundance tsv files\n",
      "  --matrix-to-directories\n",
      "                        Reorganize matrix output into abundance tsv files\n",
      "                        across multiple directories\n"
     ]
    }
   ],
   "source": [
    "!kb count "
   ]
  },
  {
   "cell_type": "code",
   "execution_count": 10,
   "id": "13d8e63d-6262-4e67-900b-beb802b02c07",
   "metadata": {},
   "outputs": [
    {
     "name": "stdout",
     "output_type": "stream",
     "text": [
      "List of supported single-cell technologies\n",
      "\n",
      "Positions syntax: `input file index, start position, end position`\n",
      "When start & end positions are None, refers to the entire file\n",
      "Custom technologies may be defined by providing a kallisto-supported technology string\n",
      "(see https://pachterlab.github.io/kallisto/manual)\n",
      "\n",
      "name            description                            on-list    barcode                    umi        cDNA                       \n",
      "------------    -----------------------------------    -------    -----------------------    -------    -----------------------    \n",
      "10XV1           10x version 1                          yes        0,0,14                     1,0,10     2,None,None                \n",
      "10XV2           10x version 2                          yes        0,0,16                     0,16,26    1,None,None                \n",
      "10XV3           10x version 3                          yes        0,0,16                     0,16,28    1,None,None                \n",
      "10XV3_ULTIMA    10x version 3 sequenced with Ultima    yes        0,22,38                    0,38,50    0,62,None                  \n",
      "BDWTA           BD Rhapsody                            yes        0,0,9 0,21,30 0,43,52      0,52,60    1,None,None                \n",
      "BULK            Bulk (single or paired)                                                                 0,None,None 1,None,None    \n",
      "CELSEQ          CEL-Seq                                           0,0,8                      0,8,12     1,None,None                \n",
      "CELSEQ2         CEL-SEQ version 2                                 0,6,12                     0,0,6      1,None,None                \n",
      "DROPSEQ         DropSeq                                           0,0,12                     0,12,20    1,None,None                \n",
      "INDROPSV1       inDrops version 1                                 0,0,11 0,30,38             0,42,48    1,None,None                \n",
      "INDROPSV2       inDrops version 2                                 1,0,11 1,30,38             1,42,48    0,None,None                \n",
      "INDROPSV3       inDrops version 3                      yes        0,0,8 1,0,8                1,8,14     2,None,None                \n",
      "SCRUBSEQ        SCRB-Seq                                          0,0,6                      0,6,16     1,None,None                \n",
      "SMARTSEQ2       Smart-seq2  (single or paired)                                                          0,None,None 1,None,None    \n",
      "SMARTSEQ3       Smart-seq3                                                                   0,11,19    0,11,None 1,None,None      \n",
      "SPLIT-SEQ       SPLiT-seq                                         1,10,18 1,48,56 1,78,86    1,0,10     0,None,None                \n",
      "STORMSEQ        STORM-seq                                                                    1,0,8      0,None,None 1,14,None      \n",
      "SURECELL        SureCell for ddSEQ                                0,0,6 0,21,27 0,42,48      0,51,59    1,None,None                \n",
      "Visium          10x Visium                             yes        0,0,16                     0,16,28    1,None,None                \n"
     ]
    }
   ],
   "source": [
    "!kb --list"
   ]
  }
 ],
 "metadata": {
  "kernelspec": {
   "display_name": "BaloniLab_py10",
   "language": "python",
   "name": "balonilab_py10"
  },
  "language_info": {
   "codemirror_mode": {
    "name": "ipython",
    "version": 3
   },
   "file_extension": ".py",
   "mimetype": "text/x-python",
   "name": "python",
   "nbconvert_exporter": "python",
   "pygments_lexer": "ipython3",
   "version": "3.10.13"
  }
 },
 "nbformat": 4,
 "nbformat_minor": 5
}
